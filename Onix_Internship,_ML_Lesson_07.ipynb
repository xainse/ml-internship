{
  "nbformat": 4,
  "nbformat_minor": 0,
  "metadata": {
    "colab": {
      "name": "Onix Internship,  ML Lesson 07.ipynb",
      "provenance": [],
      "authorship_tag": "ABX9TyNJCKlcKN/hnb3mQFCw6ZCB",
      "include_colab_link": true
    },
    "kernelspec": {
      "name": "python3",
      "display_name": "Python 3"
    },
    "language_info": {
      "name": "python"
    }
  },
  "cells": [
    {
      "cell_type": "markdown",
      "metadata": {
        "id": "view-in-github",
        "colab_type": "text"
      },
      "source": [
        "<a href=\"https://colab.research.google.com/github/xainse/ml-internship/blob/main/Onix_Internship%2C_ML_Lesson_07.ipynb\" target=\"_parent\"><img src=\"https://colab.research.google.com/assets/colab-badge.svg\" alt=\"Open In Colab\"/></a>"
      ]
    },
    {
      "cell_type": "markdown",
      "source": [
        "# Home work for the lesson 07"
      ],
      "metadata": {
        "id": "I7D7m-OogikI"
      }
    },
    {
      "cell_type": "code",
      "execution_count": 75,
      "metadata": {
        "id": "GP8LstGf-xJE"
      },
      "outputs": [],
      "source": [
        "import numpy as np\n",
        "\n",
        "# Class*Class*Class*Class*Class*Class*Class*Class*Class*Class*Class*Class*\n",
        "class MatrixUno:\n",
        "\n",
        "  rowStartIndx = 0\n",
        "  rowEndIndx = 1 \n",
        "  colStartIndx = 2\n",
        "  colEndIndx = 3\n",
        "\n",
        "  # передаємо матрицю і зріз\n",
        "  # проходжу по матриці і обнуляю все, що не входить в зріз по якимось умовам\n",
        "  # виконую унарну операцію над всим масивом \n",
        "  # повертаю оброблений масив\n",
        "\n",
        "  def abs(self, matrix, slice = None):\n",
        "    #по умолчанию (если срез не задан) быстрые унарные математические операции выполняются над всеми элементами массива;\n",
        "    if slice:\n",
        "      matrix = self.set_zero( matrix, slice)\n",
        "\n",
        "    matrix = np.sqrt(matrix)\n",
        "    return matrix\n",
        "\n",
        "  def sqrt(self, matrix, slice = None):\n",
        "    #по умолчанию (если срез не задан) быстрые унарные математические операции выполняются над всеми элементами массива;\n",
        "    if slice:\n",
        "      matrix = self.set_zero( matrix, slice)\n",
        "\n",
        "    matrix = np.sqrt(matrix)\n",
        "    return matrix\n",
        "\n",
        "  def square(self, matrix, slice = None):\n",
        "    #по умолчанию (если срез не задан) быстрые унарные математические операции выполняются над всеми элементами массива;\n",
        "    if slice:\n",
        "      matrix = self.set_zero( matrix, slice)\n",
        "\n",
        "    matrix = np.sqrt(matrix)\n",
        "    return matrix\n",
        "\n",
        "  def exp(self, matrix, slice = None):\n",
        "    #по умолчанию (если срез не задан) быстрые унарные математические операции выполняются над всеми элементами массива;\n",
        "    if slice:\n",
        "      matrix = self.set_zero( matrix, slice)\n",
        "\n",
        "    matrix = np.sqrt(matrix)\n",
        "    return matrix\n",
        "\n",
        "  def log(self, matrix, slice = None):\n",
        "    if slice:\n",
        "      matrix = self.set_zero( matrix, slice)\n",
        "    return matrix\n",
        "\n",
        "  def log10(self, matrix, slice = None):\n",
        "    if slice:\n",
        "      matrix = self.set_zero( matrix, slice)\n",
        "    matrix = np.log10(matrix)\n",
        "    return matrix\n",
        "\n",
        "  def sign (self, matrix, slice = None):\n",
        "    if slice: \n",
        "      matrix = self.set_zero(matrix, slice)\n",
        "    matrix = np.sign(matrix)\n",
        "    return matrix\n",
        "    \n",
        "\n",
        "  def make_qube(self, matrix, repeats):\n",
        "    #x = np.repeat(matrix, repeats, axis=0) - результат копіюється не так, як потрібно\n",
        "\n",
        "    x = np.tile(matrix, (repeats, 1, 1))\n",
        "\n",
        "    return x\n",
        "\n",
        "  def set_zero (self, matrix, slice):\n",
        "    x = 0\n",
        "    y = 0\n",
        "\n",
        "    for row in matrix:\n",
        "      y = 0\n",
        "      for i in row:\n",
        "        if (x < slice[self.rowStartIndx] or x >= slice[self.rowEndIndx]) or (y < slice[self.colStartIndx] or y >= slice[self.colEndIndx]) :\n",
        "          matrix[x][y] = 0\n",
        "        y += 1\n",
        "      x += 1\n",
        "    return matrix\n",
        "\n",
        "# EndClass*ClassEnd*ClassEnd*ClassEnd*ClassEnd*ClassEnd*ClassEnd*ClassEnd*ClassEnd\n",
        "\n",
        "mu = MatrixUno()"
      ]
    },
    {
      "cell_type": "markdown",
      "source": [
        "# Set Zero Example - Check Slice"
      ],
      "metadata": {
        "id": "GnkFeO26-Zay"
      }
    },
    {
      "cell_type": "code",
      "source": [
        "arr = np.array([[0, 2, 0, 5, 5, 1, 3, 1],\n",
        "                [9, 7, 1, 2, 9, 2, 1, 1],\n",
        "                [1, 0, 3, 0, 1, 2, 5, 8],\n",
        "                [5, 6, 2, 9, 7, 3, 8, 1],\n",
        "                [5, 2, 4, 2, 9, 2, 9, 5],\n",
        "                [9, 1, 8, 4, 8, 6, 6, 7],\n",
        "                [2, 1, 2, 2, 2, 9, 0, 0]])\n",
        "\n",
        "print(arr[1:4, 0:5])\n",
        "\n",
        "# check slice\n",
        "data = mu.log(arr, [1, 4, 0, 5])\n",
        "print('\\n', data)"
      ],
      "metadata": {
        "colab": {
          "base_uri": "https://localhost:8080/"
        },
        "id": "BlCIRVUo7ZWx",
        "outputId": "3895e2d5-db26-40ca-e6b4-fe4cc91378d5"
      },
      "execution_count": 31,
      "outputs": [
        {
          "output_type": "stream",
          "name": "stdout",
          "text": [
            "[[9 7 1 2 9]\n",
            " [1 0 3 0 1]\n",
            " [5 6 2 9 7]]\n",
            "\n",
            " [[0 0 0 0 0 0 0 0]\n",
            " [9 7 1 2 9 0 0 0]\n",
            " [1 0 3 0 1 0 0 0]\n",
            " [5 6 2 9 7 0 0 0]\n",
            " [0 0 0 0 0 0 0 0]\n",
            " [0 0 0 0 0 0 0 0]\n",
            " [0 0 0 0 0 0 0 0]]\n"
          ]
        }
      ]
    },
    {
      "cell_type": "code",
      "source": [
        "\n",
        "# abs\n",
        "arr_1 = np.array([\n",
        "                    [10, 20, 30.3449, 40, 50],\n",
        "                    [11, 21, 31, 41, 51],\n",
        "                    [12, 22, 32, 42, 52],\n",
        "                    [13, 23, 33, 43, 53],\n",
        "                    [14, 24, 34, 44, 54],\n",
        "                    [15, 25, 35, 45, 55]])\n",
        "\n",
        "data = mu.abs(arr_1)\n",
        "print('ABS opperation')\n",
        "\n",
        "data\n"
      ],
      "metadata": {
        "colab": {
          "base_uri": "https://localhost:8080/"
        },
        "id": "pKLNTyT3_L59",
        "outputId": "59d27f4a-802d-4e82-ec66-8dbf300dc968"
      },
      "execution_count": 32,
      "outputs": [
        {
          "output_type": "stream",
          "name": "stdout",
          "text": [
            "ABS opperation\n"
          ]
        },
        {
          "output_type": "execute_result",
          "data": {
            "text/plain": [
              "array([[3.16227766, 4.47213595, 5.50862052, 6.32455532, 7.07106781],\n",
              "       [3.31662479, 4.58257569, 5.56776436, 6.40312424, 7.14142843],\n",
              "       [3.46410162, 4.69041576, 5.65685425, 6.4807407 , 7.21110255],\n",
              "       [3.60555128, 4.79583152, 5.74456265, 6.55743852, 7.28010989],\n",
              "       [3.74165739, 4.89897949, 5.83095189, 6.63324958, 7.34846923],\n",
              "       [3.87298335, 5.        , 5.91607978, 6.70820393, 7.41619849]])"
            ]
          },
          "metadata": {},
          "execution_count": 32
        }
      ]
    },
    {
      "cell_type": "markdown",
      "source": [
        "# Abs operation on slice"
      ],
      "metadata": {
        "id": "7giuDs6mlyec"
      }
    },
    {
      "cell_type": "code",
      "source": [
        "slice = [1,4,0,3]\n",
        "data = mu.abs(arr_1, slice)\n",
        "print('ABS opperation with slice')\n",
        "\n",
        "data\n"
      ],
      "metadata": {
        "colab": {
          "base_uri": "https://localhost:8080/"
        },
        "id": "kT9vx6xMl2Vi",
        "outputId": "7f2561d1-e61f-453d-ca2c-8a7edccdb968"
      },
      "execution_count": 33,
      "outputs": [
        {
          "output_type": "stream",
          "name": "stdout",
          "text": [
            "ABS opperation with slice\n"
          ]
        },
        {
          "output_type": "execute_result",
          "data": {
            "text/plain": [
              "array([[0.        , 0.        , 0.        , 0.        , 0.        ],\n",
              "       [3.31662479, 4.58257569, 5.56776436, 0.        , 0.        ],\n",
              "       [3.46410162, 4.69041576, 5.65685425, 0.        , 0.        ],\n",
              "       [3.60555128, 4.79583152, 5.74456265, 0.        , 0.        ],\n",
              "       [0.        , 0.        , 0.        , 0.        , 0.        ],\n",
              "       [0.        , 0.        , 0.        , 0.        , 0.        ]])"
            ]
          },
          "metadata": {},
          "execution_count": 33
        }
      ]
    },
    {
      "cell_type": "code",
      "source": [
        "# square\n",
        "arr_2 = np.random.rand(6, 7)\n",
        "data = mu.square(arr_2, [3,4, 2,5])\n",
        "data"
      ],
      "metadata": {
        "colab": {
          "base_uri": "https://localhost:8080/"
        },
        "id": "VgZHxsCLmSAu",
        "outputId": "e9535880-81d5-4094-cad6-e3d8ca1e4a25"
      },
      "execution_count": 17,
      "outputs": [
        {
          "output_type": "execute_result",
          "data": {
            "text/plain": [
              "array([[0.        , 0.        , 0.        , 0.        , 0.        ,\n",
              "        0.        , 0.        ],\n",
              "       [0.        , 0.        , 0.        , 0.        , 0.        ,\n",
              "        0.        , 0.        ],\n",
              "       [0.        , 0.        , 0.        , 0.        , 0.        ,\n",
              "        0.        , 0.        ],\n",
              "       [0.        , 0.        , 0.42252131, 0.56978371, 0.65551533,\n",
              "        0.        , 0.        ],\n",
              "       [0.        , 0.        , 0.        , 0.        , 0.        ,\n",
              "        0.        , 0.        ],\n",
              "       [0.        , 0.        , 0.        , 0.        , 0.        ,\n",
              "        0.        , 0.        ]])"
            ]
          },
          "metadata": {},
          "execution_count": 17
        }
      ]
    },
    {
      "cell_type": "code",
      "source": [
        "arr_2 = np.random.rand(7, 5)\n",
        "data = mu.square(arr_2, [3,4, 2,5])\n",
        "data"
      ],
      "metadata": {
        "id": "FUCZTk7_7HBd"
      },
      "execution_count": null,
      "outputs": []
    },
    {
      "cell_type": "code",
      "source": [
        "# exp\n",
        "\n",
        "arr_1 = np.random.rand(6, 7)\n",
        "arr_1 = mu.exp(arr_1, [4, 6, 5, 7])\n",
        "\n",
        "arr_1"
      ],
      "metadata": {
        "colab": {
          "base_uri": "https://localhost:8080/"
        },
        "id": "bDXd3SuelZlr",
        "outputId": "8cac98a6-d86e-4419-f628-b77396f2617f"
      },
      "execution_count": 35,
      "outputs": [
        {
          "output_type": "execute_result",
          "data": {
            "text/plain": [
              "array([[0.        , 0.        , 0.        , 0.        , 0.        ,\n",
              "        0.        , 0.        ],\n",
              "       [0.        , 0.        , 0.        , 0.        , 0.        ,\n",
              "        0.        , 0.        ],\n",
              "       [0.        , 0.        , 0.        , 0.        , 0.        ,\n",
              "        0.        , 0.        ],\n",
              "       [0.        , 0.        , 0.        , 0.        , 0.        ,\n",
              "        0.        , 0.        ],\n",
              "       [0.        , 0.        , 0.        , 0.        , 0.        ,\n",
              "        0.77468763, 0.66442398],\n",
              "       [0.        , 0.        , 0.        , 0.        , 0.        ,\n",
              "        0.48234096, 0.70255248]])"
            ]
          },
          "metadata": {},
          "execution_count": 35
        }
      ]
    },
    {
      "cell_type": "code",
      "source": [
        "# log10\n",
        "\n",
        "arr = np.random.rand(5, 5)\n",
        "arr = mu.log10(arr, [0, 2, 1, 4])\n",
        "\n",
        "arr"
      ],
      "metadata": {
        "colab": {
          "base_uri": "https://localhost:8080/"
        },
        "id": "0GoqdFj0_Bhr",
        "outputId": "4b230dc0-8c05-4990-854a-2b5ed2278fbc"
      },
      "execution_count": 41,
      "outputs": [
        {
          "output_type": "stream",
          "name": "stderr",
          "text": [
            "/usr/local/lib/python3.7/dist-packages/ipykernel_launcher.py:56: RuntimeWarning: divide by zero encountered in log10\n"
          ]
        },
        {
          "output_type": "execute_result",
          "data": {
            "text/plain": [
              "array([[       -inf, -0.17742008, -0.34824273, -0.28201085,        -inf],\n",
              "       [       -inf, -0.49931817, -0.09882767, -0.1191824 ,        -inf],\n",
              "       [       -inf,        -inf,        -inf,        -inf,        -inf],\n",
              "       [       -inf,        -inf,        -inf,        -inf,        -inf],\n",
              "       [       -inf,        -inf,        -inf,        -inf,        -inf]])"
            ]
          },
          "metadata": {},
          "execution_count": 41
        }
      ]
    },
    {
      "cell_type": "code",
      "source": [
        "# sign\n",
        "arr = np.random.rand(5, 5)\n",
        "arr = mu.sign(arr, [2, 4, 1, 4])\n",
        "\n",
        "arr"
      ],
      "metadata": {
        "colab": {
          "base_uri": "https://localhost:8080/"
        },
        "id": "CP5cuh7__qYN",
        "outputId": "17a64791-00d2-408f-e95d-003acb9d5a55"
      },
      "execution_count": 43,
      "outputs": [
        {
          "output_type": "execute_result",
          "data": {
            "text/plain": [
              "array([[0., 0., 0., 0., 0.],\n",
              "       [0., 0., 0., 0., 0.],\n",
              "       [0., 1., 1., 1., 0.],\n",
              "       [0., 1., 1., 1., 0.],\n",
              "       [0., 0., 0., 0., 0.]])"
            ]
          },
          "metadata": {},
          "execution_count": 43
        }
      ]
    },
    {
      "cell_type": "markdown",
      "source": [
        "Перетворити вхідний двувимірний масив в трьохвимірний, копіюючи вхідний двухвимірний масив вздовж осі (axis=2)"
      ],
      "metadata": {
        "id": "Qtcv-N-JAIvv"
      }
    },
    {
      "cell_type": "code",
      "source": [
        "arr = np.array([[7, -10],[3, 5]])\n",
        "data = mu.make_qube(arr, 4)\n",
        "\n",
        "print(data)\n"
      ],
      "metadata": {
        "colab": {
          "base_uri": "https://localhost:8080/"
        },
        "id": "gEAX6OJNARie",
        "outputId": "d44d4a65-305f-4057-b2f1-11fa9439d672"
      },
      "execution_count": 77,
      "outputs": [
        {
          "output_type": "stream",
          "name": "stdout",
          "text": [
            "[[[  7 -10]\n",
            "  [  3   5]]\n",
            "\n",
            " [[  7 -10]\n",
            "  [  3   5]]\n",
            "\n",
            " [[  7 -10]\n",
            "  [  3   5]]\n",
            "\n",
            " [[  7 -10]\n",
            "  [  3   5]]]\n"
          ]
        }
      ]
    }
  ]
}