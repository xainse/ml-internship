{
  "nbformat": 4,
  "nbformat_minor": 0,
  "metadata": {
    "colab": {
      "name": "Onix Internship,  ML Lesson 07.ipynb",
      "provenance": [],
      "authorship_tag": "ABX9TyMtMyRQYoOG88gm3VwrkM8e",
      "include_colab_link": true
    },
    "kernelspec": {
      "name": "python3",
      "display_name": "Python 3"
    },
    "language_info": {
      "name": "python"
    }
  },
  "cells": [
    {
      "cell_type": "markdown",
      "metadata": {
        "id": "view-in-github",
        "colab_type": "text"
      },
      "source": [
        "<a href=\"https://colab.research.google.com/github/xainse/ml-internship/blob/main/Onix_Internship%2C_ML_Lesson_07.ipynb\" target=\"_parent\"><img src=\"https://colab.research.google.com/assets/colab-badge.svg\" alt=\"Open In Colab\"/></a>"
      ]
    },
    {
      "cell_type": "code",
      "execution_count": 14,
      "metadata": {
        "colab": {
          "base_uri": "https://localhost:8080/"
        },
        "id": "GP8LstGf-xJE",
        "outputId": "5a22ba0c-22cc-497c-ae90-4822319965c0"
      },
      "outputs": [
        {
          "output_type": "execute_result",
          "data": {
            "text/plain": [
              "array([ 0.78118941,  0.78118941,  0.78118941,  0.13073122,  0.13073122,\n",
              "        0.13073122,  0.94902199,  0.94902199,  0.94902199, -0.30032415,\n",
              "       -0.30032415, -0.30032415,  0.10193275,  0.10193275,  0.10193275,\n",
              "       -0.43343544, -0.43343544, -0.43343544,  0.11857936,  0.11857936,\n",
              "        0.11857936, -0.4215359 , -0.4215359 , -0.4215359 , -0.5530391 ,\n",
              "       -0.5530391 , -0.5530391 ])"
            ]
          },
          "metadata": {},
          "execution_count": 14
        }
      ],
      "source": [
        "import numpy as np\n",
        "import pandas as pd \n",
        "\n",
        "arr_1 = np.array([[10., 20., 30.], [30., 20., 10.]])\n",
        "\n",
        "arr_2 = np.random.randint(100, size=10)\n",
        "\n",
        "arr_2\n",
        "\n",
        "#print(arr_1)\n",
        "\n",
        "df1 = pd.DataFrame({'key':['b','b', 'a', 'c', 'a', 'a', 'b' ],\n",
        "                    'data1': range(7)})\n",
        "\n",
        "data = np.random.randn(3, 3)\n",
        "\n",
        "#data1 = np.sqrt(data[:2, 1:])\n",
        "\n",
        "class MatrixUno:\n",
        "\n",
        "  def sqrt(self, matrix, cutp1, cutp2):\n",
        "\n",
        "    return 0\n",
        "\n",
        "  def make_qube(self, matrix, repeats):\n",
        "    x = np.repeat(matrix, repeats)\n",
        "\n",
        "    return x\n",
        "\n",
        "#MatrixUno.Uno.sqrt(data, ':2,', '1:')\n",
        "mu = MatrixUno()\n",
        "\n",
        "data = mu.make_qube(data, 3)\n",
        "data\n",
        "\n"
      ]
    }
  ]
}