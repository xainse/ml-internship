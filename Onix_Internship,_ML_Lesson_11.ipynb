{
  "nbformat": 4,
  "nbformat_minor": 0,
  "metadata": {
    "colab": {
      "name": "Onix Internship,  ML Lesson 11.ipynb",
      "provenance": [],
      "authorship_tag": "ABX9TyOwlVZKYb9w3dIZNGlM58VV",
      "include_colab_link": true
    },
    "kernelspec": {
      "name": "python3",
      "display_name": "Python 3"
    },
    "language_info": {
      "name": "python"
    }
  },
  "cells": [
    {
      "cell_type": "markdown",
      "metadata": {
        "id": "view-in-github",
        "colab_type": "text"
      },
      "source": [
        "<a href=\"https://colab.research.google.com/github/xainse/ml-internship/blob/main/Onix_Internship%2C_ML_Lesson_11.ipynb\" target=\"_parent\"><img src=\"https://colab.research.google.com/assets/colab-badge.svg\" alt=\"Open In Colab\"/></a>"
      ]
    },
    {
      "cell_type": "code",
      "execution_count": 122,
      "metadata": {
        "colab": {
          "base_uri": "https://localhost:8080/"
        },
        "id": "P3AEnzFKgZ3B",
        "outputId": "4e7315cb-6485-4b12-986b-7933317cb01f"
      },
      "outputs": [
        {
          "output_type": "stream",
          "name": "stdout",
          "text": [
            "Drive already mounted at /content/gdrive; to attempt to forcibly remount, call drive.mount(\"/content/gdrive\", force_remount=True).\n"
          ]
        },
        {
          "output_type": "execute_result",
          "data": {
            "text/plain": [
              "array([ 0.144,  0.937,  1.787, -1.052, -0.192,  0.169,  2.623,  2.135,\n",
              "        1.759,  0.811,  0.724, -0.11 ,  1.752, -0.378,  0.417,  1.36 ,\n",
              "        1.365,  2.587,  1.621,  2.344,  1.379,  0.56 ,  1.858,  2.453,\n",
              "       -0.356,  1.503, -0.134,  2.95 , -0.816,  0.717,  2.468,  1.131,\n",
              "        1.047,  1.355,  1.162, -0.491,  0.261, -0.183,  0.467,  0.502,\n",
              "       -0.805,  0.228,  2.286,  0.364, -0.312, -0.045,  2.559,  0.129,\n",
              "        0.898,  0.877,  3.285,  1.554,  1.418,  0.423, -0.489, -0.255,\n",
              "        1.092,  0.402, -0.051,  0.02 ,  0.398,  1.399,  2.121, -0.026,\n",
              "        1.087,  2.018, -0.437,  1.661,  1.091,  0.363,  1.229,  0.416,\n",
              "        1.705,  1.124,  1.341,  2.32 ,  0.176, -0.541,  0.837,  3.329,\n",
              "        2.382, -0.454,  2.537, -0.299,  1.363,  0.644,  0.975,  1.294,\n",
              "        3.194,  0.605,  1.978,  1.109,  2.434, -0.094,  0.735,  0.143,\n",
              "       -0.421, -0.773,  1.57 ,  0.947])"
            ]
          },
          "metadata": {},
          "execution_count": 122
        }
      ],
      "source": [
        "import numpy as np\n",
        "import statistics as st \n",
        "import locale\n",
        "from google.colab import drive\n",
        "\n",
        "drive.mount('/content/gdrive')\n",
        "dir_name = '/content/gdrive/MyDrive/2022.01. ML Learning - Onix Internship (Serhii Kholin)/Lesson_011/'\n",
        "\n",
        "\n",
        "df = np.loadtxt (dir_name + 'data.txt', dtype='str')\n",
        "\n",
        "i=0\n",
        "for n in df:\n",
        "  num = float(n.replace(\",\",\".\"))\n",
        "  df[i] = num\n",
        "  i+=1\n",
        "\n",
        "df = df.astype('float64')\n",
        "df"
      ]
    },
    {
      "cell_type": "markdown",
      "source": [
        "Міри стандартної тенденції, стандартне відхилення, дисперсія, максимальне та мінімальне значення, комулятивна сума"
      ],
      "metadata": {
        "id": "iVHyfHQQaE8M"
      }
    },
    {
      "cell_type": "code",
      "source": [
        "print('mean =', st.mean(df)) # arithmetic mean (\"average\") of data\n",
        "print('median =', st.median(df)) # median (mean) of data\n",
        "print('median_low =', st.median_low(df)) # low median\n",
        "print('median_high =', st.median_high(df)) # high median\n",
        "try:\n",
        "  print('mode =', st.mode(df)) # mode\n",
        "except st.StatisticsError:\n",
        "  print('mode = No mode')\n",
        "\n",
        "print('pst_dev =', st.pstdev(df)) # population standard deviation of data\n",
        "print('min val =', st.stdev(df)) # standard deviation of the data sample\n",
        "print('max val =', st.pvariance(df)) # population variance of data\n",
        "print('sum =', sum(df)) # sample variance of data\n",
        "\n",
        "print(len(df))"
      ],
      "metadata": {
        "colab": {
          "base_uri": "https://localhost:8080/"
        },
        "id": "1wvKAJKZaEi7",
        "outputId": "fbc04569-753a-46ee-ee69-f4b8b3003533"
      },
      "execution_count": null,
      "outputs": [
        {
          "output_type": "stream",
          "name": "stdout",
          "text": [
            "mean = 0.93694\n",
            "median = 0.9175\n",
            "median_low = 0.898\n",
            "median_high = 0.937\n",
            "mode = No mode\n",
            "pst_dev = 1.038439770232246\n",
            "min val = 1.0436712379524948\n",
            "max val = 1.0783571564\n",
            "sum = 93.69399999999999\n",
            "100\n"
          ]
        }
      ]
    },
    {
      "cell_type": "code",
      "source": [
        "import matplotlib.pyplot as plt\n",
        "import scipy.stats as sps\n",
        "\n",
        "\n",
        "plt.figure(figsize=(11, 12))\n",
        "plt.hist(df, bins=15, density=True, alpha=0.6, label='Гiстограмма вибірки')\n",
        "\n",
        "plt.legend(fontsize=14, loc=1)\n",
        "\n",
        "plt.show()"
      ],
      "metadata": {
        "colab": {
          "base_uri": "https://localhost:8080/",
          "height": 700
        },
        "id": "JW83GnineG_t",
        "outputId": "fe7489bd-ec38-4970-e728-04d3a12fe753"
      },
      "execution_count": 152,
      "outputs": [
        {
          "output_type": "display_data",
          "data": {
            "image/png": "[encoded data removed]",
            "text/plain": [
              "<Figure size 792x864 with 1 Axes>"
            ]
          },
          "metadata": {
            "needs_background": "light"
          }
        }
      ]
    },
    {
      "cell_type": "code",
      "source": [
        "#df\n",
        "\n",
        "df = np.sort(df)\n",
        "x = []\n",
        "arr = []\n",
        "dfsize = df.size\n",
        "for i in df:\n",
        "  length = df[df < i].size\n",
        "  arr.append(length/dfsize) #f(x) = n_xi/n\n",
        "  x.append(i)\n",
        "  \n",
        "df2 = np.array(arr)\n",
        "print(df2)\n",
        "\n",
        "plt.stem(x, df2)\n",
        "plt.show()\n"
      ],
      "metadata": {
        "colab": {
          "base_uri": "https://localhost:8080/",
          "height": 463
        },
        "id": "j3aFM4QgBlJg",
        "outputId": "5a3fde28-4491-42eb-b6e9-db1cb854c23b"
      },
      "execution_count": 151,
      "outputs": [
        {
          "output_type": "stream",
          "name": "stdout",
          "text": [
            "[0.   0.01 0.02 0.03 0.04 0.05 0.06 0.07 0.08 0.09 0.1  0.11 0.12 0.13\n",
            " 0.14 0.15 0.16 0.17 0.18 0.19 0.2  0.21 0.22 0.23 0.24 0.25 0.26 0.27\n",
            " 0.28 0.29 0.3  0.31 0.32 0.33 0.34 0.35 0.36 0.37 0.38 0.39 0.4  0.41\n",
            " 0.42 0.43 0.44 0.45 0.46 0.47 0.48 0.49 0.5  0.51 0.52 0.53 0.54 0.55\n",
            " 0.56 0.57 0.58 0.59 0.6  0.61 0.62 0.63 0.64 0.65 0.66 0.67 0.68 0.69\n",
            " 0.7  0.71 0.72 0.73 0.74 0.75 0.76 0.77 0.78 0.79 0.8  0.81 0.82 0.83\n",
            " 0.84 0.85 0.86 0.87 0.88 0.89 0.9  0.91 0.92 0.93 0.94 0.95 0.96 0.97\n",
            " 0.98 0.99]\n"
          ]
        },
        {
          "output_type": "stream",
          "name": "stderr",
          "text": [
            "/usr/local/lib/python3.7/dist-packages/ipykernel_launcher.py:16: UserWarning: In Matplotlib 3.3 individual lines on a stem plot will be added as a LineCollection instead of individual lines. This significantly improves the performance of a stem plot. To remove this warning and switch to the new behaviour, set the \"use_line_collection\" keyword argument to True.\n",
            "  app.launch_new_instance()\n"
          ]
        },
        {
          "output_type": "display_data",
          "data": {
            "image/png": "[encoded data removed]",
            "text/plain": [
              "<Figure size 432x288 with 1 Axes>"
            ]
          },
          "metadata": {
            "needs_background": "light"
          }
        }
      ]
    }
  ]
}